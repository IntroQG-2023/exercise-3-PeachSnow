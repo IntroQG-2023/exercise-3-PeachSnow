{
 "cells": [
  {
   "cell_type": "markdown",
   "id": "8dbef571",
   "metadata": {
    "deletable": false,
    "editable": false,
    "nbgrader": {
     "cell_type": "markdown",
     "checksum": "9034193942d7baf26d43d0d3a05659a7",
     "grade": false,
     "grade_id": "cell-599bcc6f5e4c4865",
     "locked": true,
     "schema_version": 3,
     "solution": false,
     "task": false
    }
   },
   "source": [
    "# Exercise 3: Diffusion and Dodson's equations (20 points)\n",
    "\n",
    "In the exercise for this week we will explore the diffusion equation and how it can be applied to understand ages from thermochronology.\n",
    "\n",
    "### Tips for completing this exercise\n",
    "\n",
    "- Use **exactly** the same variable names as in the instructions because your answers will be automatically graded, and the tests that grade your answers rely on following the same formatting or variable naming as in the instructions.\n",
    "- **Please do not**:\n",
    "\n",
    "    - **Change the file names**. Do all of your editing in the provided `Exercise-3-problems-1-2.ipynb` file (this file).\n",
    "    - **Copy/paste cells in this notebook**. We use an automated grading system that will fail if there are copies of code cells.\n",
    "    - **Change the existing cell types**. You can add cells, but changing the cell types for existing cells (from code to markdown, for example) will also cause the automated grader to fail."
   ]
  },
  {
   "cell_type": "markdown",
   "id": "577126aa-d7ef-40f8-b878-3621bfb81f71",
   "metadata": {
    "deletable": false,
    "editable": false,
    "nbgrader": {
     "cell_type": "markdown",
     "checksum": "31a660c974c3914d0044888c4e3f5cab",
     "grade": false,
     "grade_id": "cell-dfef897f5325b3c9",
     "locked": true,
     "schema_version": 3,
     "solution": false,
     "task": false
    },
    "tags": []
   },
   "source": [
    "## AI tool usage agreement\n",
    "\n",
    "**Enter your name in the cell below** to confirm that you have followed the [course guidelines on the use of AI tools](https://introqg-site.readthedocs.io/en/latest/general-info/ai-tools.html) and understand that misuse of AI tools is considered cheating."
   ]
  },
  {
   "cell_type": "markdown",
   "id": "17634d6c-fc19-4a62-a070-29965292af59",
   "metadata": {
    "deletable": false,
    "nbgrader": {
     "cell_type": "markdown",
     "checksum": "4bf1792def96077b38161f120b7fe3e2",
     "grade": true,
     "grade_id": "AI-LLM_statement",
     "locked": false,
     "points": 0,
     "schema_version": 3,
     "solution": true,
     "task": false
    },
    "tags": []
   },
   "source": [
    "Name: Qi-fan Wu"
   ]
  },
  {
   "cell_type": "markdown",
   "id": "eaf427ef",
   "metadata": {
    "deletable": false,
    "editable": false,
    "nbgrader": {
     "cell_type": "markdown",
     "checksum": "3ecaa0bb3361e9c43ea701e2c26662de",
     "grade": false,
     "grade_id": "cell-2a449efeee697c34",
     "locked": true,
     "schema_version": 3,
     "solution": false,
     "task": false
    }
   },
   "source": [
    "## Problem 1: Investigating diffusion behaviors in space and time (6 points)\n",
    "\n",
    "In this first problem we will explore how diffusion profiles are affected by the timescale of diffusion and the diffusivity. \n",
    "\n",
    "The general form of the diffusion equation in 1D without any sources is\n",
    "\n",
    "$$\n",
    "\\large\n",
    "\\frac{\\partial c}{\\partial t} = D \\frac{\\partial^{2}c}{\\partial x^{2}}\n",
    "$$\n",
    "*Equation 1. The diffusion equation without sources.*\n",
    "\n",
    "where $c$ is the concentration of the diffusing material (isotope concentration, heat, etc.), $t$ is time, $D$ is the diffusion constant (or diffusivity), and $x$ is the spatial coordinate.\n",
    "\n",
    "Let's now consider an example where\n",
    "\n",
    "- the initial concentration of the diffusing material at x < 0 is 1.0\n",
    "- the initial concentration of the diffusing material at x > 0 is 0.0\n",
    "- the concentration $c_{0}$ at x = 0 is 0.5 (the average of the concentrations on either side)\n",
    "\n",
    "In this case, we can find a solution in the form\n",
    "\n",
    "$$\n",
    "\\large\n",
    "c(x, t) = c_{0} \\mathrm{erfc}{\\left(\\frac{x}{2 \\sqrt{D t}} \\right)}\n",
    "$$\n",
    "*Equation 2. A solution to the diffusion equation for the conditions above.*\n",
    "\n",
    "where $\\mathrm{erfc}$ is the complementary error function.\n",
    "\n",
    "This will allow us to explore how diffusion affects the concentration on either side of x = 0 as a function of time and diffusivity.\n",
    "\n",
    "### Scores for this problem\n",
    "\n",
    "**Your score on this problem will be based on following criteria**:\n",
    "\n",
    "- Calculating the diffusion profiles for various times and diffusivities\n",
    "- Plotting your results to display how the profiles vary\n",
    "- Including comments that explain what most lines in the code do\n",
    "- Uploading your notebook to your GitHub repository for this week's exercise"
   ]
  },
  {
   "cell_type": "markdown",
   "id": "46671f4b",
   "metadata": {
    "deletable": false,
    "editable": false,
    "nbgrader": {
     "cell_type": "markdown",
     "checksum": "564a0b0fc187a8a23a3bad7f80fe2476",
     "grade": false,
     "grade_id": "cell-aa2f35a53ee2b893",
     "locked": true,
     "schema_version": 3,
     "solution": false,
     "task": false
    }
   },
   "source": [
    "### Part 1: Exploring diffusion behavior (1 point)\n",
    "\n",
    "To start, we can calculate the concentrations of the diffusing material using Equation 2 for a series of times.\n",
    "\n",
    "- Calculate the diffusion profile at the following times:\n",
    "\n",
    "    - 0.1 (`concentration_0`)\n",
    "    - 6.0 (`concentration_6`)\n",
    "    - 12.0 (`concentration_12`)\n",
    "    - 18.0 (`concentration_18`)\n",
    "\n",
    "- For each time you should use the following values:\n",
    "\n",
    "    - A concentration $c_{0}$ at x = 0 of 0.5\n",
    "    - A range of x values from -10.0 to 10.0 in 201 steps\n",
    "    - A constant diffusivity of D = 1.0\n",
    "\n",
    "**Hints**:\n",
    "1. You can use a function for this, but you do not need to\n",
    "2. The complementary error function is available in the SciPy package and can be used as `erfc()` below"
   ]
  },
  {
   "cell_type": "code",
   "execution_count": 1,
   "id": "b4e54be4",
   "metadata": {
    "deletable": false,
    "nbgrader": {
     "cell_type": "code",
     "checksum": "21f057624ae729276dde7aa2eef50683",
     "grade": false,
     "grade_id": "problem_1_ag_p1_times",
     "locked": false,
     "schema_version": 3,
     "solution": true,
     "task": false
    },
    "tags": []
   },
   "outputs": [
    {
     "name": "stdout",
     "output_type": "stream",
     "text": [
      "Requirement already satisfied: scipy in /opt/conda/lib/python3.10/site-packages (1.11.3)\n",
      "Requirement already satisfied: numpy<1.28.0,>=1.21.6 in /opt/conda/lib/python3.10/site-packages (from scipy) (1.25.2)\n"
     ]
    }
   ],
   "source": [
    "import numpy as np\n",
    "!pip install scipy  #pip install scipy\n",
    "from scipy.special import erfc\n",
    "\n",
    "concentration_0 = None\n",
    "concentration_6 = None\n",
    "concentration_12 = None\n",
    "concentration_18 = None\n",
    "\n",
    "# YOUR CODE HERE\n",
    "# Constants\n",
    "c0 = 0.5  # concentration at x = 0\n",
    "D = 1.0   # diffusivity\n",
    "x = np.linspace(-10.0, 10.0, 201)  # Range of x, 201 points from -10.0 to 10.0\n",
    "# Calculate concentrations for different times\n",
    "concentration_0 = c0 * erfc(x / (2 * np.sqrt(D * 0.1)))\n",
    "concentration_6 = c0 * erfc(x / (2 * np.sqrt(D * 6.0)))\n",
    "concentration_12 = c0 * erfc(x / (2 * np.sqrt(D * 12.0)))\n",
    "concentration_18 = c0 * erfc(x / (2 * np.sqrt(D * 18.0)))\n",
    "#raise NotImplementedError()"
   ]
  },
  {
   "cell_type": "code",
   "execution_count": 2,
   "id": "dd6b9e49",
   "metadata": {
    "deletable": false,
    "editable": false,
    "nbgrader": {
     "cell_type": "code",
     "checksum": "bda4d23bb91dc39258d76284b39a7711",
     "grade": true,
     "grade_id": "problem_1_ag_p1_times_test1",
     "locked": true,
     "points": 1,
     "schema_version": 3,
     "solution": false,
     "task": false
    },
    "tags": []
   },
   "outputs": [
    {
     "name": "stdout",
     "output_type": "stream",
     "text": [
      "Concentration at index 88 after time  0.1: 0.9964. Expected value: 0.9964.\n",
      "Concentration at index 88 after time  6.0: 0.6355. Expected value: 0.6355.\n",
      "Concentration at index 88 after time 12.0: 0.5968. Expected value: 0.5968.\n",
      "Concentration at index 88 after time 18.0: 0.5793. Expected value: 0.5793.\n"
     ]
    }
   ],
   "source": [
    "# The print statements below should work\n",
    "print(f\"Concentration at index 88 after time  0.1: {concentration_0[88]:.4f}. Expected value: 0.9964.\")\n",
    "print(f\"Concentration at index 88 after time  6.0: {concentration_6[88]:.4f}. Expected value: 0.6355.\")\n",
    "print(f\"Concentration at index 88 after time 12.0: {concentration_12[88]:.4f}. Expected value: 0.5968.\")\n",
    "print(f\"Concentration at index 88 after time 18.0: {concentration_18[88]:.4f}. Expected value: 0.5793.\")\n"
   ]
  },
  {
   "cell_type": "markdown",
   "id": "68968c5c",
   "metadata": {
    "deletable": false,
    "editable": false,
    "nbgrader": {
     "cell_type": "markdown",
     "checksum": "beee9279d0b4df62a5fbe2dd4a1ee315",
     "grade": false,
     "grade_id": "cell-be5fbbd942986a22",
     "locked": true,
     "schema_version": 3,
     "solution": false,
     "task": false
    }
   },
   "source": [
    "### Part 2: Plotting diffusion behavior (2 points)\n",
    "\n",
    "Here we can create a plot of the four diffusion profiles calculated above.\n",
    "\n",
    "- Using Matplotlib, create a line plot with the distance x on the x-axis and concentration on the y-axis\n",
    "    - You can create the figure and plots using `fig, ax = plt.subplots(1, 1, figsize=(8, 6))`, which will create a figure with a single set of plot axes and a size of 8 inches wide by 6 inches tall\n",
    "    - The concentrations for all four times should be on the same plot\n",
    "        - You should use the `label` parameter in the plot function to give the lines a label for the legend\n",
    "- Be sure to display the legend, and include axis labels and a title\n",
    "- Also add a figure caption in the Markdown cell below the plot that describes it as if it was in a scientific journal article"
   ]
  },
  {
   "cell_type": "code",
   "execution_count": 3,
   "id": "a54fb450",
   "metadata": {
    "deletable": false,
    "nbgrader": {
     "cell_type": "code",
     "checksum": "92dbb7dedab8601fcf3d26c5b1d4feb7",
     "grade": true,
     "grade_id": "problem_1_mg_p2_plot",
     "locked": false,
     "points": 1.5,
     "schema_version": 3,
     "solution": true,
     "task": false
    },
    "tags": []
   },
   "outputs": [
    {
     "data": {
      "image/png": "[encoded data removed]",
      "text/plain": [
       "<Figure size 800x600 with 1 Axes>"
      ]
     },
     "metadata": {},
     "output_type": "display_data"
    }
   ],
   "source": [
    "import matplotlib.pyplot as plt\n",
    "\n",
    "# Create your plot below\n",
    "\n",
    "# YOUR CODE HERE\n",
    "# Create the figure and plot axes\n",
    "fig, ax = plt.subplots(1, 1, figsize=(8, 6))\n",
    "import matplotlib.cm as cm\n",
    "colors = cm.Blues(np.linspace(0.5, 1, 4))  \n",
    "# Plotting the concentration profiles\n",
    "ax.plot(x, concentration_0, label='t = 0.1', color=colors[0])\n",
    "ax.plot(x, concentration_6, label='t = 6.0', color=colors[1])\n",
    "ax.plot(x, concentration_12, label='t = 12.0', color=colors[2])\n",
    "ax.plot(x, concentration_18, label='t = 18.0', color=colors[3])\n",
    "# Adding labels and title\n",
    "ax.set_xlabel('Distance x')\n",
    "ax.set_ylabel('Concentration')\n",
    "ax.set_title('Diffusion profiles at various times')\n",
    "# Show the legend\n",
    "ax.legend()\n",
    "# Show the plot\n",
    "plt.show()\n",
    "#raise NotImplementedError()"
   ]
  },
  {
   "cell_type": "markdown",
   "id": "dfad222e",
   "metadata": {
    "deletable": false,
    "nbgrader": {
     "cell_type": "markdown",
     "checksum": "43652b342f363bb26bb800349097318f",
     "grade": true,
     "grade_id": "problem_1_mg_p2_caption",
     "locked": false,
     "points": 0.5,
     "schema_version": 3,
     "solution": true,
     "task": false
    }
   },
   "source": [
    "**Figure Caption:** The graph displays diffusion profiles of a material at four different time intervals, represented by varying shades of blue lines. Each line depicts the concentration gradient as a function of distance at a given time, showing the transition from an initial step function distribution at t = 0.1 to increasingly smooth profiles at later times. The concentration is initially 1.0 for x < 0 and 0.0 for x > 0, with an intermediate value of 0.5 at x = 0. As time progresses, the diffusion process gradually diminishes the concentration gradient, exemplifying the tendency toward equilibrium. The steepest gradient is observed at t = 0.1, with the slope decreasing at each successive time interval, reflecting the diffusive spread of material through the medium."
   ]
  },
  {
   "cell_type": "markdown",
   "id": "1a4b9f09",
   "metadata": {
    "deletable": false,
    "editable": false,
    "nbgrader": {
     "cell_type": "markdown",
     "checksum": "f6941e2d3af4105a67ebf6fbe8d43b9d",
     "grade": false,
     "grade_id": "cell-774a5c59f11cdf07",
     "locked": true,
     "schema_version": 3,
     "solution": false,
     "task": false
    }
   },
   "source": [
    "### Part 3: Exploring diffusion behavior again (1 point)\n",
    "\n",
    "Here we will repeat what was done in Part 1, but for different diffusity values rather than different times.\n",
    "\n",
    "- Calculate the diffusion profile at the following diffusivities:\n",
    "\n",
    "    - 0.1 (`diffusivity_0`)\n",
    "    - 1.0 (`diffusivity_1`)\n",
    "    - 10.0 (`diffusivity_10`)\n",
    "\n",
    "- For each time you should use the following values:\n",
    "\n",
    "    - A concentration $c_{0}$ at x = 0 of 0.5\n",
    "    - A range of x values from -10.0 to 10.0 in 201 steps\n",
    "    - A time of 6.0\n",
    "\n",
    "**Note**: The calculated values for `diffusivity_1` are the same as `concentration_6` from Part 1."
   ]
  },
  {
   "cell_type": "code",
   "execution_count": 4,
   "id": "5b0e5026",
   "metadata": {
    "deletable": false,
    "nbgrader": {
     "cell_type": "code",
     "checksum": "33cfc8b66ecd5ca35da9180069c02124",
     "grade": false,
     "grade_id": "problem_1_ag_p3_diffusivities",
     "locked": false,
     "schema_version": 3,
     "solution": true,
     "task": false
    },
    "tags": []
   },
   "outputs": [],
   "source": [
    "diffusivity_0 = None\n",
    "diffusivity_1 = None\n",
    "diffusivity_10 = None\n",
    "\n",
    "# YOUR CODE HERE\n",
    "# Constants\n",
    "c0 = 0.5  # concentration at x = 0\n",
    "time = 6.0  # time\n",
    "# Range of x values\n",
    "x = np.linspace(-10.0, 10.0, 201)  # 201 points from -10.0 to 10.0\n",
    "# Calculate concentrations for different diffusivities\n",
    "diffusivity_0 = c0 * erfc(x / (2 * np.sqrt(0.1 * time)))\n",
    "diffusivity_1 = c0 * erfc(x / (2 * np.sqrt(1.0 * time)))  # the same as concentration_6 from Part 1\n",
    "diffusivity_10 = c0 * erfc(x / (2 * np.sqrt(10.0 * time)))\n",
    "#raise NotImplementedError()"
   ]
  },
  {
   "cell_type": "code",
   "execution_count": 5,
   "id": "48908626",
   "metadata": {
    "deletable": false,
    "editable": false,
    "nbgrader": {
     "cell_type": "code",
     "checksum": "cefdd1ef12126d701df52404c16e7cde",
     "grade": true,
     "grade_id": "problem_1_ag_p3_diffusivities_test1",
     "locked": true,
     "points": 1,
     "schema_version": 3,
     "solution": false,
     "task": false
    },
    "tags": []
   },
   "outputs": [
    {
     "name": "stdout",
     "output_type": "stream",
     "text": [
      "Concentration at index 88 for diffusivity  0.1: 0.8633. Expected value: 0.8633.\n",
      "Concentration at index 88 for diffusivity  1.0: 0.6355. Expected value: 0.6355.\n",
      "Concentration at index 88 for diffusivity 10.0: 0.5436. Expected value: 0.5436.\n"
     ]
    }
   ],
   "source": [
    "# The print statements below should work\n",
    "print(f\"Concentration at index 88 for diffusivity  0.1: {diffusivity_0[88]:.4f}. Expected value: 0.8633.\")\n",
    "print(f\"Concentration at index 88 for diffusivity  1.0: {diffusivity_1[88]:.4f}. Expected value: 0.6355.\")\n",
    "print(f\"Concentration at index 88 for diffusivity 10.0: {diffusivity_10[88]:.4f}. Expected value: 0.5436.\")\n"
   ]
  },
  {
   "cell_type": "markdown",
   "id": "8d0c561d",
   "metadata": {
    "deletable": false,
    "editable": false,
    "nbgrader": {
     "cell_type": "markdown",
     "checksum": "f9f7ee9e9a59c2c0e20079768993c30e",
     "grade": false,
     "grade_id": "cell-f1abcf884b0bf1d1",
     "locked": true,
     "schema_version": 3,
     "solution": false,
     "task": false
    }
   },
   "source": [
    "### Part 4: Plotting diffusion behavior again (2 points)\n",
    "\n",
    "Now we can again plot our results as we did in Part 2, but now for the different diffusivities.\n",
    "\n",
    "- Using Matplotlib, create a line plot with the distance x on the x-axis and concentration on the y-axis\n",
    "    - You can create the figure and plots using `fig, ax = plt.subplots(1, 1, figsize=(8, 6))`, which will create a figure with a single set of plot axes and a size of 8 inches wide by 6 inches tall\n",
    "    - The concentrations for all three diffusivities should be on the same plot\n",
    "        - You should use the `label` parameter in the plot function to give the lines a label for the legend\n",
    "- Be sure to display the legend, and include axis labels and a title\n",
    "- Also add a figure caption in the Markdown cell below the plot that describes it as if it was in a scientific journal article"
   ]
  },
  {
   "cell_type": "code",
   "execution_count": 6,
   "id": "35513f3c",
   "metadata": {
    "deletable": false,
    "nbgrader": {
     "cell_type": "code",
     "checksum": "2bfd87cd6f128532b59d5785ab0cc8c5",
     "grade": true,
     "grade_id": "problem_1_mg_p4_plot",
     "locked": false,
     "points": 1.5,
     "schema_version": 3,
     "solution": true,
     "task": false
    },
    "tags": []
   },
   "outputs": [
    {
     "data": {
      "image/png": "[encoded data removed]",
      "text/plain": [
       "<Figure size 800x600 with 1 Axes>"
      ]
     },
     "metadata": {},
     "output_type": "display_data"
    }
   ],
   "source": [
    "import matplotlib.pyplot as plt\n",
    "\n",
    "# Create your plot below\n",
    "\n",
    "# YOUR CODE HERE\n",
    "# the gradient blue colors\n",
    "colors = plt.cm.Blues(np.linspace(0.5, 1, 3))\n",
    "# Create the figure and axes for the plot\n",
    "fig, ax = plt.subplots(1, 1, figsize=(8, 6))\n",
    "# Plot the concentration profiles for different diffusivities\n",
    "ax.plot(x, diffusivity_0, label='D = 0.1', color=colors[0])\n",
    "ax.plot(x, diffusivity_1, label='D = 1.0', color=colors[1])\n",
    "ax.plot(x, diffusivity_10, label='D = 10.0', color=colors[2])\n",
    "# Add labels and title\n",
    "ax.set_xlabel('Distance x')\n",
    "ax.set_ylabel('Concentration')\n",
    "ax.set_title('Diffusion profiles for various diffusivities')\n",
    "# Display the legend\n",
    "ax.legend()\n",
    "# Show the plot\n",
    "plt.show()\n",
    "#raise NotImplementedError()"
   ]
  },
  {
   "cell_type": "markdown",
   "id": "8697e594",
   "metadata": {
    "deletable": false,
    "nbgrader": {
     "cell_type": "markdown",
     "checksum": "a35b3d05bc8ecfbd9456647854b58822",
     "grade": true,
     "grade_id": "problem_1_mg_p4_caption",
     "locked": false,
     "points": 0.5,
     "schema_version": 3,
     "solution": true,
     "task": false
    }
   },
   "source": [
    "**Figure Caption:** This graph presents the diffusion profiles of a substance for three different values of diffusivity (D = 0.1, 1.0, and 10.0) over a spatial domain ranging from -10 to 10 units. The lines represent the concentration profiles at a fixed time of t = 6.0 for increasing diffusivities. As diffusivity increases, the spread of the substance becomes wider, flattening the concentration profile and indicating more efficient diffusion across space. The concentration transition from 1.0 to 0.0 becomes less abrupt as diffusivity increases, highlighting the enhanced mixing and homogenization effect of higher diffusivity on the substance's distribution."
   ]
  },
  {
   "cell_type": "markdown",
   "id": "d45f69f0",
   "metadata": {
    "deletable": false,
    "editable": false,
    "nbgrader": {
     "cell_type": "markdown",
     "checksum": "8f547fd9f78a5297abc11678511815f7",
     "grade": false,
     "grade_id": "cell-c7ca456a6c991b0c",
     "locked": true,
     "schema_version": 3,
     "solution": false,
     "task": false
    }
   },
   "source": [
    "## Problem 2: Calculating thermochronometer closure temperatures (14 points)\n",
    "\n",
    "In this problem you will create a function for calculating an effective closure temperature using Dodson's equations and then apply that equation to several different scenarios. In the function, you will need to calculate both of the values below.\n",
    "\n",
    "$$\n",
    "\\large\n",
    "T_{\\mathrm{c}} = \\frac{E_{\\mathrm{a}}}{R \\ln \\left( A \\tau D_{0} / a^{2} \\right)}\n",
    "$$\n",
    "\n",
    "*Equation 3. The effective closure temperature according to Dodson's method.*\n",
    "\n",
    "where $T_{\\mathrm{c}}$ is the effective closure temperature, $E_{\\mathrm{a}}$ is the activation energy, $R$ is the universal gas constant, $A$ is a geometric factor ($A = 25$ for a sphere, $A = 27$ for a cylinder, and $A = 8.7$ for a planar sheet), $\\tau$ is time for the diffusivity to decrease by a factor of 1/e, $D_{0}$ is the diffusivity at infinite temperature and $a$ is the diffusion domain (we'll assume this is the size of the mineral).\n",
    "The value of $\\tau$ can be calculated as a function of the cooling rate $dT/dt$\n",
    "\n",
    "$$\n",
    "\\large\n",
    "\\tau = -\\frac{R T^{2}}{E_{\\mathrm{a}} dT/dt}\n",
    "$$\n",
    "\n",
    "*Equation 4. The characteristic time for a change in diffusivity.*\n",
    "\n",
    "Using both equations above it is possible to determine an effective closure temperature by iterating to find the values of $T_{\\mathrm{c}}$ and $\\tau$.\n",
    "\n",
    "### Scores for this problem\n",
    "\n",
    "**Your score on this problem will be based on following criteria**:\n",
    "\n",
    "- Creating a new function called `dodson()` and saving it adding it to your `introqg_functions.py` script file from Exercise 2\n",
    "- Calculating effective closure temperatures for different cooling rates, grain sizes, and thermochronometers\n",
    "- Plotting your results\n",
    "- Including comments that explain what most lines in the code do\n",
    "- Uploading your notebook **and script file** to your GitHub repository for this week's exercise"
   ]
  },
  {
   "cell_type": "markdown",
   "id": "8fc09172",
   "metadata": {
    "deletable": false,
    "editable": false,
    "nbgrader": {
     "cell_type": "markdown",
     "checksum": "903a6b4fa214bba8ff419670b6e11aff",
     "grade": false,
     "grade_id": "cell-df8999eff98fc57c",
     "locked": true,
     "schema_version": 3,
     "solution": false,
     "task": false
    }
   },
   "source": [
    "### Part 0: Copying and testing your script file from Exercise 2 (0 points)\n",
    "\n",
    "The first task in this problem is to copy your `introqg_functions.py` script file from Exercise 2 to the directory containing this notebook and then run the cell below to ensure it has been copied and is functioning as expected. Note: We will only check some of the functions in this file using the tests below, not all of them.\n",
    "\n",
    "- Copy your `introqg_functions.py` script file from Exercise 2 to the directory containing this notebook\n",
    "- Run the tests below"
   ]
  },
  {
   "cell_type": "code",
   "execution_count": 7,
   "id": "d05034e1",
   "metadata": {
    "deletable": false,
    "editable": false,
    "nbgrader": {
     "cell_type": "code",
     "checksum": "8501bad5780668a32e311c18a170e85f",
     "grade": false,
     "grade_id": "cell-4d01933ba9b83d4e",
     "locked": true,
     "schema_version": 3,
     "solution": false,
     "task": false
    },
    "tags": []
   },
   "outputs": [
    {
     "name": "stdout",
     "output_type": "stream",
     "text": [
      "Linear regression y-intercept: 0.667.\n",
      "Linear regression slope: 0.333.\n",
      "Chi-squared value: 27.750\n"
     ]
    },
    {
     "ename": "AssertionError",
     "evalue": "27.75 != 5.55",
     "output_type": "error",
     "traceback": [
      "\u001b[0;31m---------------------------------------------------------------------------\u001b[0m",
      "\u001b[0;31mAssertionError\u001b[0m                            Traceback (most recent call last)",
      "Cell \u001b[0;32mIn[7], line 24\u001b[0m\n\u001b[1;32m     22\u001b[0m assert_equal(\u001b[38;5;28mround\u001b[39m(A, \u001b[38;5;241m3\u001b[39m), \u001b[38;5;241m0.667\u001b[39m)\n\u001b[1;32m     23\u001b[0m assert_equal(\u001b[38;5;28mround\u001b[39m(B, \u001b[38;5;241m3\u001b[39m), \u001b[38;5;241m0.333\u001b[39m)\n\u001b[0;32m---> 24\u001b[0m \u001b[43massert_equal\u001b[49m\u001b[43m(\u001b[49m\u001b[38;5;28;43mround\u001b[39;49m\u001b[43m(\u001b[49m\u001b[43mchi\u001b[49m\u001b[43m,\u001b[49m\u001b[43m \u001b[49m\u001b[38;5;241;43m3\u001b[39;49m\u001b[43m)\u001b[49m\u001b[43m,\u001b[49m\u001b[43m \u001b[49m\u001b[38;5;241;43m5.550\u001b[39;49m\u001b[43m)\u001b[49m\n\u001b[1;32m     26\u001b[0m \u001b[38;5;66;03m# Print message if it is safe to continue\u001b[39;00m\n\u001b[1;32m     27\u001b[0m \u001b[38;5;28mprint\u001b[39m(\u001b[38;5;124m\"\u001b[39m\u001b[38;5;130;01m\\n\u001b[39;00m\u001b[38;5;124mAll tests pass! You are ready to proceed with this exercise.\u001b[39m\u001b[38;5;124m\"\u001b[39m)\n",
      "File \u001b[0;32m/opt/conda/lib/python3.10/unittest/case.py:845\u001b[0m, in \u001b[0;36mTestCase.assertEqual\u001b[0;34m(self, first, second, msg)\u001b[0m\n\u001b[1;32m    841\u001b[0m \u001b[38;5;250m\u001b[39m\u001b[38;5;124;03m\"\"\"Fail if the two objects are unequal as determined by the '=='\u001b[39;00m\n\u001b[1;32m    842\u001b[0m \u001b[38;5;124;03m   operator.\u001b[39;00m\n\u001b[1;32m    843\u001b[0m \u001b[38;5;124;03m\"\"\"\u001b[39;00m\n\u001b[1;32m    844\u001b[0m assertion_func \u001b[38;5;241m=\u001b[39m \u001b[38;5;28mself\u001b[39m\u001b[38;5;241m.\u001b[39m_getAssertEqualityFunc(first, second)\n\u001b[0;32m--> 845\u001b[0m \u001b[43massertion_func\u001b[49m\u001b[43m(\u001b[49m\u001b[43mfirst\u001b[49m\u001b[43m,\u001b[49m\u001b[43m \u001b[49m\u001b[43msecond\u001b[49m\u001b[43m,\u001b[49m\u001b[43m \u001b[49m\u001b[43mmsg\u001b[49m\u001b[38;5;241;43m=\u001b[39;49m\u001b[43mmsg\u001b[49m\u001b[43m)\u001b[49m\n",
      "File \u001b[0;32m/opt/conda/lib/python3.10/unittest/case.py:838\u001b[0m, in \u001b[0;36mTestCase._baseAssertEqual\u001b[0;34m(self, first, second, msg)\u001b[0m\n\u001b[1;32m    836\u001b[0m standardMsg \u001b[38;5;241m=\u001b[39m \u001b[38;5;124m'\u001b[39m\u001b[38;5;132;01m%s\u001b[39;00m\u001b[38;5;124m != \u001b[39m\u001b[38;5;132;01m%s\u001b[39;00m\u001b[38;5;124m'\u001b[39m \u001b[38;5;241m%\u001b[39m _common_shorten_repr(first, second)\n\u001b[1;32m    837\u001b[0m msg \u001b[38;5;241m=\u001b[39m \u001b[38;5;28mself\u001b[39m\u001b[38;5;241m.\u001b[39m_formatMessage(msg, standardMsg)\n\u001b[0;32m--> 838\u001b[0m \u001b[38;5;28;01mraise\u001b[39;00m \u001b[38;5;28mself\u001b[39m\u001b[38;5;241m.\u001b[39mfailureException(msg)\n",
      "\u001b[0;31mAssertionError\u001b[0m: 27.75 != 5.55"
     ]
    }
   ],
   "source": [
    "# These tests with a small list should work\n",
    "from nose.tools import assert_equal\n",
    "from introqg_functions import linregress, chi_squared\n",
    "\n",
    "# Test mean function with some lists\n",
    "list1 = [4, 2, 8, -2, -10]\n",
    "list2 = [3, 5, 1, -2, -3]\n",
    "list3 = [1, 2, 2, 1, 2]\n",
    "\n",
    "# Calculate linear regression\n",
    "A, B = linregress(list1, list2)\n",
    "\n",
    "# Calculate chi-squared\n",
    "chi = chi_squared(list1, list2, list3)\n",
    "\n",
    "# Print test values\n",
    "print(f\"Linear regression y-intercept: {A:.3f}.\")\n",
    "print(f\"Linear regression slope: {B:.3f}.\")\n",
    "print(f\"Chi-squared value: {chi:.3f}\")\n",
    "\n",
    "# Check that the mean values are correct\n",
    "assert_equal(round(A, 3), 0.667)\n",
    "assert_equal(round(B, 3), 0.333)\n",
    "assert_equal(round(chi, 3), 5.550)\n",
    "\n",
    "# Print message if it is safe to continue\n",
    "print(\"\\nAll tests pass! You are ready to proceed with this exercise.\")"
   ]
  },
  {
   "cell_type": "markdown",
   "id": "941753ed",
   "metadata": {
    "deletable": false,
    "editable": false,
    "nbgrader": {
     "cell_type": "markdown",
     "checksum": "1524b5ad3ce55e3e15905c59bc9fa828",
     "grade": false,
     "grade_id": "cell-6d86f1316d288b56",
     "locked": true,
     "schema_version": 3,
     "solution": false,
     "task": false
    }
   },
   "source": [
    "### Part 1: Converting Dodson's equations to a function (4 points)\n",
    "\n",
    "The first task in this problem is to create a function called `dodson()` that calculates an effective closure temperature using Equations 3 and 4 above.\n",
    "\n",
    "In the function, you will pass in the following values, and you should use the same name for the parameters in your `dodson()` function:\n",
    "\n",
    "- `cooling_rate` (units: °C / Myr; **Note**: should be a negative number)\n",
    "- `activation_energy` (units: J / mol)\n",
    "- `diffusivity_inf` (units: m$^{2}$ / s)\n",
    "- `grain_radius` (units: $\\mu$m)\n",
    "- `geometry_factor` (units: none)\n",
    "\n",
    "**NOTE**: The equation for $T_{\\mathrm{c}}$ requires you know the value of $\\tau$, and the equation to calculate $\\tau$ requires a value for $T$, for which we will use $T_{\\mathrm{c}}$. This might seem like an impossible situation with two equations that require values from each other, but the simple solution here is to use a `for` loop to iterate and calculate the value of both $T_{\\mathrm{c}}$ and $\\tau$ until the calculated value for $T_{\\mathrm{c}}$ converges. This should happen in no more than 10 iterations in your `for` loop. If you are looking for a challenge, you can also use a `while` loop to calculate the effective closure temperature, but to do this you will need to keep track of the difference in the calculated closure temperature and check that it converges (stops changing).\n",
    "\n",
    "**Hints**\n",
    "\n",
    "1. Define the gas constant as a variable inside your function. There is no need to pass it, since it is a constant.\n",
    "2. We suggest you calculate the value of $\\tau$ and then $T_{\\mathrm{c}}$ in your loop. This is just a recommendation.\n",
    "    - If you calculate $\\tau$ first in your loop, you should also define the initial \"guess\" for the closure temperature inside your function before your `for` loop. This will allow you to calculate $\\tau$ during the first iteration before you calculate $T_{\\mathrm{c}}$ the first time.\n",
    "        - We recommend an initial guess of something like 1000 Kelvins, just to make sure the first guess is higher than any calculated closure temperature.\n",
    "3. The input units for `cooling_rate` and `grain_radius` will need to be converted to have time in seconds and distance in meters, respectively. Geological cooling rates are typically reported in °C / Myr and grain radii in micrometers, so to make the function easier to use it is helpful to convert units within the function.\n",
    "4. Be aware that the calculated closure temperature will be in Kelvins, so you should convert that to degrees Celsius before returning the value from your function.\n",
    "\n",
    "**What to do for this part:**\n",
    "\n",
    "- Create a function called `dodson()` in your `introqg_functions.py` script file\n",
    "    - Your function parameters should be `cooling_rate`, `activation_energy`, `diffusivity_inf`, `grain_radius`, and `geometry_factor` as described above"
   ]
  },
  {
   "cell_type": "code",
   "execution_count": 8,
   "id": "67af5145",
   "metadata": {
    "deletable": false,
    "nbgrader": {
     "cell_type": "code",
     "checksum": "ae9cff40424e4ec280c549fcebb8561b",
     "grade": false,
     "grade_id": "problem_2_ag_p1_dodson",
     "locked": false,
     "schema_version": 3,
     "solution": true,
     "task": false
    },
    "tags": []
   },
   "outputs": [],
   "source": [
    "# Import your dodson function below\n",
    "\n",
    "# YOUR CODE HERE\n",
    "from introqg_functions import dodson\n",
    "#raise NotImplementedError()"
   ]
  },
  {
   "cell_type": "code",
   "execution_count": 9,
   "id": "92a576f4",
   "metadata": {
    "deletable": false,
    "editable": false,
    "nbgrader": {
     "cell_type": "code",
     "checksum": "e139713e974ad7d2f89f97ff6e42f8ed",
     "grade": true,
     "grade_id": "problem_2_ag_p1_dodson_test1",
     "locked": true,
     "points": 1,
     "schema_version": 3,
     "solution": false,
     "task": false
    },
    "tags": []
   },
   "outputs": [
    {
     "name": "stdout",
     "output_type": "stream",
     "text": [
      "Calculated apatite (U-Th)/He closure temperature: 63.237 °C\n"
     ]
    }
   ],
   "source": [
    "# The test below should work\n",
    "\n",
    "from nose.tools import assert_equal\n",
    "from introqg_functions import dodson\n",
    "\n",
    "tc1 = dodson(\n",
    "    cooling_rate=-1.0,\n",
    "    activation_energy=138.0e3,\n",
    "    diffusivity_inf=5.0e-3,\n",
    "    grain_radius=100.0,\n",
    "    geometry_factor=25\n",
    ")\n",
    "\n",
    "# Print calculated closure temperature\n",
    "print(f\"Calculated apatite (U-Th)/He closure temperature: {tc1:.3f} °C\")\n",
    "\n",
    "# Check that the closure temperature value is correct\n",
    "assert_equal(round(tc1, 3), 63.237)"
   ]
  },
  {
   "cell_type": "code",
   "execution_count": 10,
   "id": "a763db45",
   "metadata": {
    "deletable": false,
    "editable": false,
    "nbgrader": {
     "cell_type": "code",
     "checksum": "860750fe11af5086e9c82c58af9f955b",
     "grade": true,
     "grade_id": "problem_2_ag_p1_dodson_test2",
     "locked": true,
     "points": 1,
     "schema_version": 3,
     "solution": false,
     "task": false
    },
    "tags": []
   },
   "outputs": [
    {
     "name": "stdout",
     "output_type": "stream",
     "text": [
      "Calculated apatite (U-Th)/He closure temperature: 79.016 °C\n"
     ]
    }
   ],
   "source": [
    "# The test below should work\n",
    "\n",
    "tc2 = dodson(\n",
    "    cooling_rate=-10.0,\n",
    "    activation_energy=138.0e3,\n",
    "    diffusivity_inf=5.0e-3,\n",
    "    grain_radius=100.0,\n",
    "    geometry_factor=25\n",
    ")\n",
    "\n",
    "# Print calculated closure temperature\n",
    "print(f\"Calculated apatite (U-Th)/He closure temperature: {tc2:.3f} °C\")\n",
    "\n",
    "# Check that the closure temperature value is correct\n",
    "assert_equal(round(tc2, 3), 79.016)"
   ]
  },
  {
   "cell_type": "code",
   "execution_count": 11,
   "id": "64952393",
   "metadata": {
    "deletable": false,
    "editable": false,
    "nbgrader": {
     "cell_type": "code",
     "checksum": "357c165bf75b96fb3cbc5ed89c002541",
     "grade": true,
     "grade_id": "problem_2_ag_p1_dodson_test3",
     "locked": true,
     "points": 1,
     "schema_version": 3,
     "solution": false,
     "task": false
    },
    "tags": []
   },
   "outputs": [
    {
     "name": "stdout",
     "output_type": "stream",
     "text": [
      "Calculated zircon (U-Th)/He closure temperature: 198.619 °C\n"
     ]
    }
   ],
   "source": [
    "# The test below should work\n",
    "\n",
    "tc3 = dodson(\n",
    "    cooling_rate=-10.0,\n",
    "    activation_energy=168.0e3,\n",
    "    diffusivity_inf=4.6e-5,\n",
    "    grain_radius=100.0,\n",
    "    geometry_factor=25\n",
    ")\n",
    "\n",
    "# Print calculated closure temperature\n",
    "print(f\"Calculated zircon (U-Th)/He closure temperature: {tc3:.3f} °C\")\n",
    "\n",
    "# Check that the closure temperature value is correct\n",
    "assert_equal(round(tc3, 3), 198.619)"
   ]
  },
  {
   "cell_type": "code",
   "execution_count": 12,
   "id": "ff3f2130",
   "metadata": {
    "deletable": false,
    "editable": false,
    "nbgrader": {
     "cell_type": "code",
     "checksum": "8b3643ac0fa3f0cc2e77a93a27daf13e",
     "grade": true,
     "grade_id": "problem_2_ag_p1_dodson_test4",
     "locked": true,
     "points": 1,
     "schema_version": 3,
     "solution": false,
     "task": false
    },
    "tags": []
   },
   "outputs": [
    {
     "name": "stdout",
     "output_type": "stream",
     "text": [
      "Calculated muscovite Ar/Ar closure temperature: 486.500 °C\n"
     ]
    }
   ],
   "source": [
    "# The test below should work\n",
    "\n",
    "tc4 = dodson(\n",
    "    cooling_rate=-10.0,\n",
    "    activation_energy=264.0e3,\n",
    "    diffusivity_inf=2.3e-4,\n",
    "    grain_radius=500.0,\n",
    "    geometry_factor=27\n",
    ")\n",
    "\n",
    "# Print calculated closure temperature\n",
    "print(f\"Calculated muscovite Ar/Ar closure temperature: {tc4:.3f} °C\")\n",
    "\n",
    "# Check that the closure temperature value is correct\n",
    "assert_equal(round(tc4, 3), 486.500)"
   ]
  },
  {
   "cell_type": "markdown",
   "id": "2e75da49",
   "metadata": {
    "deletable": false,
    "editable": false,
    "nbgrader": {
     "cell_type": "markdown",
     "checksum": "f8658b945515115ef05d81a57206c0e8",
     "grade": false,
     "grade_id": "cell-2d80b13493134474",
     "locked": true,
     "schema_version": 3,
     "solution": false,
     "task": false
    }
   },
   "source": [
    "### Part 2: Exploring Dodson's equations: Cooling rate (2 points)\n",
    "\n",
    "Now that you have a working function for calculating closure temperatures, we can start exploring how Dodson's equations work. We will start this exploration by considering the effect of different cooling rates. You can use the other parameters listed below when doing these calculations. These are for calculating the (U-Th)/He age in apatite.\n",
    "\n",
    "| Thermochronometer | $E_{\\mathrm{a}}$      | $D_{0}$              | $a$     | $A$  |\n",
    "|-------------------|:---------------------:|:--------------------:|:-------:|:----:|\n",
    "| Apatite (U-Th)/He | $138.0 \\times 10^{3}$ | $5.0 \\times 10^{-3}$ | $100.0$ | $25$ |\n",
    "\n",
    "\n",
    "- Create a NumPy array of cooling rates called `cooling_rates` that goes from `0.01` to `100.0` in `101` steps\n",
    "    - We suggest you use the `np.logspace()` function for this because the plots we will produce will have a logarithmic x-axis. Using `np.logspace()` will keep the points where the calculations are done equally spaced when the x-axis has a logarithmic scale\n",
    "        - For the `np.logspace()` function you give the starting and ending values as the base 10 log of the values. For example, a starting rate of 0.01 °C / Myr would be `-2` in the `np.logspace()` function because $10^{-2} = 0.01$. The same would apply for the ending value.\n",
    "- Create an empty list called `closure_temps_rates` to store the closure temperature for each rate\n",
    "- Loop over the rates in your `cooling_rates` list and append the closure temperature for each rate"
   ]
  },
  {
   "cell_type": "code",
   "execution_count": 13,
   "id": "2e5e025b",
   "metadata": {
    "deletable": false,
    "nbgrader": {
     "cell_type": "code",
     "checksum": "adede51fe970295ea667b363aa3fd3eb",
     "grade": false,
     "grade_id": "problem_2_ag_p2_rates",
     "locked": false,
     "schema_version": 3,
     "solution": true,
     "task": false
    },
    "tags": []
   },
   "outputs": [],
   "source": [
    "# Create the closure temperature array and calculate the closure temps for each rate\n",
    "\n",
    "import numpy as np\n",
    "\n",
    "cooling_rates = None\n",
    "closure_temps_rates = None\n",
    "\n",
    "# YOUR CODE HERE\n",
    "# Define parameters for Apatite (U-Th)/He\n",
    "Ea = 138.0e3     # Activation energy in J/mol\n",
    "D0 = 5.0e-3      # Diffusivity at infinite temperature in m^2/s\n",
    "a = 100.0        # Grain radius in micrometers\n",
    "A = 25           # Geometric factor for a sphere\n",
    "# Create an array of cooling rates from 0.01 to 100.0 in 101 steps\n",
    "cooling_rates = np.logspace(-2, 2, 101)  # Cooling rates in °C/Myr\n",
    "# Initialize an empty list to store closure temperatures\n",
    "closure_temps_rates = []\n",
    "# Loop over each cooling rate and calculate the closure temperature\n",
    "for rate in cooling_rates:\n",
    "    # Note: Cooling rate needs to be negative as per Dodson's method\n",
    "    tc = dodson(cooling_rate=-rate, activation_energy=Ea, diffusivity_inf=D0, grain_radius=a, geometry_factor=A)\n",
    "    closure_temps_rates.append(tc)\n",
    "# closure_temps_rates contains the closure temperatures for each cooling rate\n",
    "#raise NotImplementedError()"
   ]
  },
  {
   "cell_type": "code",
   "execution_count": 14,
   "id": "9dce9f2b",
   "metadata": {
    "deletable": false,
    "editable": false,
    "nbgrader": {
     "cell_type": "code",
     "checksum": "b1ce297a1e6c532d6a496e3806bc32dd",
     "grade": true,
     "grade_id": "problem_2_ag_p2_rates_test1",
     "locked": true,
     "points": 1,
     "schema_version": 3,
     "solution": false,
     "task": false
    },
    "tags": []
   },
   "outputs": [
    {
     "name": "stdout",
     "output_type": "stream",
     "text": [
      "The cooling rates array starts with 0.01, ends with 100.0, and has 101 values.\n"
     ]
    }
   ],
   "source": [
    "# The test below should work\n",
    "print(f\"The cooling rates array starts with {cooling_rates[0]}, ends with {cooling_rates[-1]}, and has {len(cooling_rates)} values.\")\n"
   ]
  },
  {
   "cell_type": "code",
   "execution_count": 15,
   "id": "0362ed79",
   "metadata": {
    "deletable": false,
    "editable": false,
    "nbgrader": {
     "cell_type": "code",
     "checksum": "8645d0462f9c2f02d2e3b12f7a2b1d97",
     "grade": true,
     "grade_id": "problem_2_ag_p2_rates_test2",
     "locked": true,
     "points": 1,
     "schema_version": 3,
     "solution": false,
     "task": false
    },
    "tags": []
   },
   "outputs": [
    {
     "name": "stdout",
     "output_type": "stream",
     "text": [
      "The first closure temperatures is 35.51 °C and the last is 96.31 °C.\n"
     ]
    }
   ],
   "source": [
    "# The test below should work\n",
    "print(f\"The first closure temperatures is {closure_temps_rates[0]:.2f} °C and the last is {closure_temps_rates[-1]:.2f} °C.\")\n"
   ]
  },
  {
   "cell_type": "markdown",
   "id": "34b8db36",
   "metadata": {
    "deletable": false,
    "editable": false,
    "nbgrader": {
     "cell_type": "markdown",
     "checksum": "3c86aa50e307a9dfa888e6a51dec537d",
     "grade": false,
     "grade_id": "cell-d85d200a8eb5e71b",
     "locked": true,
     "schema_version": 3,
     "solution": false,
     "task": false
    }
   },
   "source": [
    "### Part 3: Plotting Dodson's equations: Cooling rate (1.5 points)\n",
    "\n",
    "With our new lists of closure temperatures we can now create a plot to help us understand how they vary for different cooling rates. The idea would be to simply plot the calculated closure temperature as a function of the cooling rate and visualize the trend.\n",
    "\n",
    "- Using Matplotlib, create a line plot with the cooling rates on the x-axis and closure temperatures on the y-axis\n",
    "    - You can create the figure and plots using `fig, ax = plt.subplots(1, 1, figsize=(8, 6))`, which will create a figure with a single set of plot axes and a size of 8 inches wide by 6 inches tall\n",
    "    - You should scale the x-axis so that it has a log scale\n",
    "        - You can search for how to do this online, or check out [hints for this week's exercise](https://introqg-site.readthedocs.io/en/latest/lessons/L3/exercise-3.html#general-hints-for-exercise-3) for help\n",
    "- Be sure to include axis labels and a title\n",
    "- Also add a figure caption in the Markdown cell below the plot that describes it as if it was in a scientific journal article"
   ]
  },
  {
   "cell_type": "code",
   "execution_count": 16,
   "id": "d9a11ddb",
   "metadata": {
    "deletable": false,
    "nbgrader": {
     "cell_type": "code",
     "checksum": "bd7fb9a9184c4aaf3820c61c61e4d633",
     "grade": true,
     "grade_id": "problem_2_mg_p3_plot",
     "locked": false,
     "points": 1,
     "schema_version": 3,
     "solution": true,
     "task": false
    },
    "tags": []
   },
   "outputs": [
    {
     "data": {
      "image/png": "[encoded data removed]",
      "text/plain": [
       "<Figure size 800x600 with 1 Axes>"
      ]
     },
     "metadata": {},
     "output_type": "display_data"
    }
   ],
   "source": [
    "import matplotlib.pyplot as plt\n",
    "\n",
    "# Create your plot below\n",
    "\n",
    "# YOUR CODE HERE\n",
    "# Create the figure and axes for the plot\n",
    "fig, ax = plt.subplots(1, 1, figsize=(8, 6))\n",
    "# Plotting closure temperatures against cooling rates\n",
    "ax.plot(cooling_rates, closure_temps_rates, marker='X', linestyle='-',markerfacecolor='skyblue', markeredgecolor='steelblue', alpha=0.3)\n",
    "# Setting the x-axis to logarithmic scale\n",
    "ax.set_xscale('log')\n",
    "# Adding labels and title\n",
    "ax.set_xlabel('Cooling Rate (°C/Myr)')\n",
    "ax.set_ylabel('Closure Temperature (°C)')\n",
    "ax.set_title('Closure Temperatures vs. Cooling Rates for Apatite (U-Th)/He')\n",
    "# Show the plot\n",
    "plt.show()\n",
    "#raise NotImplementedError()"
   ]
  },
  {
   "cell_type": "markdown",
   "id": "78103db4",
   "metadata": {
    "deletable": false,
    "nbgrader": {
     "cell_type": "markdown",
     "checksum": "fb16e16d2752f865f8375136c8c8c7d9",
     "grade": true,
     "grade_id": "problem_2_mg_p3_caption",
     "locked": false,
     "points": 0.5,
     "schema_version": 3,
     "solution": true,
     "task": false
    }
   },
   "source": [
    "**Figure Caption:** The plot demonstrates the variation in closure temperature of apatite (U-Th)/He with respect to different cooling rates from 0.01 to 100 °C/Myr. The trend shows a positive correlation, indicating that as the cooling rate decreases, the closure temperature increases. This suggests that the geological cooling history can significantly influence the closure temperature and the thermal history reconstructed from thermochronological data."
   ]
  },
  {
   "cell_type": "markdown",
   "id": "7b9a20b1",
   "metadata": {
    "deletable": false,
    "editable": false,
    "nbgrader": {
     "cell_type": "markdown",
     "checksum": "9b5a82ada35f1ee7a86cf0225471df80",
     "grade": false,
     "grade_id": "cell-cd9ca80980351f1b",
     "locked": true,
     "schema_version": 3,
     "solution": false,
     "task": false
    }
   },
   "source": [
    "### Part 4: Exploring Dodson's equations: Grain size (2 points)\n",
    "\n",
    "The next factor we can explore is the grain size, keeping the cooling rate fixed now at 10 °C / Myr. We will again use the Apatite (U-Th)/He thermochronometer for grain sizes from 40 to 100 $\\mu$m.\n",
    "\n",
    "| Thermochronometer | $E_{\\mathrm{a}}$      | $D_{0}$              | $a$    | $A$  |\n",
    "|-------------------|:---------------------:|:--------------------:|:------:|:----:|\n",
    "| Apatite (U-Th)/He | $138.0 \\times 10^{3}$ | $5.0 \\times 10^{-3}$ | varies | $25$ |\n",
    "\n",
    "\n",
    "- Create a NumPy array of grain radii called `grain_radii` that goes from `40.0` to `100.0` in `101` steps\n",
    "    - In this case you can use the `np.linspace()` function because the x-axis will have the normal linear scale\n",
    "- Create an empty list called `closure_temps_radii` to store the closure temperature for each rate\n",
    "- Loop over the rates in your `grain_radii` list and append the closure temperature for each rate"
   ]
  },
  {
   "cell_type": "code",
   "execution_count": 17,
   "id": "de6d3c50",
   "metadata": {
    "deletable": false,
    "nbgrader": {
     "cell_type": "code",
     "checksum": "976d8adca8eb91813afa17cff04b10c7",
     "grade": false,
     "grade_id": "problem_2_ag_p4_radii",
     "locked": false,
     "schema_version": 3,
     "solution": true,
     "task": false
    },
    "tags": []
   },
   "outputs": [],
   "source": [
    "# Create the closure temperature array and calculate the closure temps for each rate\n",
    "\n",
    "import numpy as np\n",
    "\n",
    "grain_radii = None\n",
    "closure_temps_radii = None\n",
    "\n",
    "# YOUR CODE HERE\n",
    "# Define parameters for Apatite (U-Th)/He\n",
    "Ea = 138.0e3     # Activation energy in J/mol\n",
    "D0 = 5.0e-3      # Diffusivity at infinite temperature in m^2/s\n",
    "A = 25           # Geometric factor for a sphere\n",
    "cooling_rate = -10.0 # Cooling rate in °C/Myr\n",
    "# Create an array of grain radii from 40.0 to 100.0 micrometers in 101 steps\n",
    "grain_radii = np.linspace(40.0, 100.0, 101)\n",
    "# Initialize an empty list to store closure temperatures\n",
    "closure_temps_radii = []\n",
    "# Loop over each grain radius and calculate the closure temperature\n",
    "for radius in grain_radii:\n",
    "    tc = dodson(cooling_rate=cooling_rate, activation_energy=Ea, diffusivity_inf=D0, grain_radius=radius, geometry_factor=A)\n",
    "    closure_temps_radii.append(tc)\n",
    "# closure_temps_radii contains the closure temperatures for each grain radius\n",
    "#raise NotImplementedError()"
   ]
  },
  {
   "cell_type": "code",
   "execution_count": 18,
   "id": "ffdb2b60",
   "metadata": {
    "deletable": false,
    "editable": false,
    "nbgrader": {
     "cell_type": "code",
     "checksum": "8897d7eddced864b0d6e671e02aed95a",
     "grade": true,
     "grade_id": "problem_2_ag_p4_radii_test1",
     "locked": true,
     "points": 1,
     "schema_version": 3,
     "solution": false,
     "task": false
    },
    "tags": []
   },
   "outputs": [
    {
     "name": "stdout",
     "output_type": "stream",
     "text": [
      "The grain radii array starts with 40.0, ends with 100.0, and has 101 values.\n"
     ]
    }
   ],
   "source": [
    "# The test below should work\n",
    "print(f\"The grain radii array starts with {grain_radii[0]}, ends with {grain_radii[-1]}, and has {len(grain_radii)} values.\")\n"
   ]
  },
  {
   "cell_type": "code",
   "execution_count": 19,
   "id": "f0da8868",
   "metadata": {
    "deletable": false,
    "editable": false,
    "nbgrader": {
     "cell_type": "code",
     "checksum": "16e074148cf37d8b4ded621b94794cdf",
     "grade": true,
     "grade_id": "problem_2_ag_p4_radii_test2",
     "locked": true,
     "points": 1,
     "schema_version": 3,
     "solution": false,
     "task": false
    },
    "tags": []
   },
   "outputs": [
    {
     "name": "stdout",
     "output_type": "stream",
     "text": [
      "The first closure temperatures is 66.34 °C and the last is 79.02 °C.\n"
     ]
    }
   ],
   "source": [
    "# The test below should work\n",
    "print(f\"The first closure temperatures is {closure_temps_radii[0]:.2f} °C and the last is {closure_temps_radii[-1]:.2f} °C.\")\n"
   ]
  },
  {
   "cell_type": "markdown",
   "id": "db21dfd3",
   "metadata": {
    "deletable": false,
    "editable": false,
    "nbgrader": {
     "cell_type": "markdown",
     "checksum": "924b908d1616364ed0acb7d3a8a75bbb",
     "grade": false,
     "grade_id": "cell-f96a4ae10b3ea3de",
     "locked": true,
     "schema_version": 3,
     "solution": false,
     "task": false
    }
   },
   "source": [
    "### Part 5: Plotting Dodson's equations: Grain radius (1.5 points)\n",
    "\n",
    "With our new lists of closure temperatures we can now create a plot to help us understand how they vary for different grain radii. The idea would be to simply plot the calculated closure temperature as a function of the grain radius and visualize the trend.\n",
    "\n",
    "- Using Matplotlib, create a line plot with the grain radius on the x-axis and closure temperatures on the y-axis\n",
    "    - You can create the figure and plots using `fig, ax = plt.subplots(1, 1, figsize=(8, 6))`, which will create a figure with a single set of plot axes and a size of 8 inches wide by 6 inches tall\n",
    "    - You use a linear scale for the x-axis this time (this is the default behavior in Matplotlib)\n",
    "- Be sure to include axis labels and a title\n",
    "- Also add a figure caption in the Markdown cell below the plot that describes it as if it was in a scientific journal article"
   ]
  },
  {
   "cell_type": "code",
   "execution_count": 20,
   "id": "c06327c7",
   "metadata": {
    "deletable": false,
    "nbgrader": {
     "cell_type": "code",
     "checksum": "438781ca714af4f1e9f5959cc8ac7a97",
     "grade": true,
     "grade_id": "problem_2_mg_p5_plot",
     "locked": false,
     "points": 1,
     "schema_version": 3,
     "solution": true,
     "task": false
    },
    "tags": []
   },
   "outputs": [
    {
     "data": {
      "image/png": "[encoded data removed]",
      "text/plain": [
       "<Figure size 800x600 with 1 Axes>"
      ]
     },
     "metadata": {},
     "output_type": "display_data"
    }
   ],
   "source": [
    "import matplotlib.pyplot as plt\n",
    "\n",
    "# Create your plot below\n",
    "\n",
    "# YOUR CODE HERE\n",
    "# Create the figure and axes for the plot\n",
    "fig, ax = plt.subplots(1, 1, figsize=(8, 6))\n",
    "# Plotting closure temperatures against grain radii\n",
    "ax.plot(grain_radii, closure_temps_radii, marker='X', linestyle='-', markerfacecolor='royalblue', markeredgecolor='steelblue', alpha=0.3)\n",
    "# Adding labels and title\n",
    "ax.set_xlabel('Grain Radius (μm)')\n",
    "ax.set_ylabel('Closure Temperature (°C)')\n",
    "ax.set_title('Closure Temperatures vs. Grain Radius for Apatite (U-Th)/He')\n",
    "# Show the plot\n",
    "plt.show()\n",
    "#raise NotImplementedError()"
   ]
  },
  {
   "cell_type": "markdown",
   "id": "1fb7a619",
   "metadata": {
    "deletable": false,
    "nbgrader": {
     "cell_type": "markdown",
     "checksum": "767aae9bd4e0111f260dc718dedcd358",
     "grade": true,
     "grade_id": "problem_2_mg_p5_caption",
     "locked": false,
     "points": 0.5,
     "schema_version": 3,
     "solution": true,
     "task": false
    }
   },
   "source": [
    "**Figure 4:** The scatter plot shows the closure temperatures for Apatite (U-Th)/He as a function of mineral grain radius, illustrating a positive correlation between grain size and closure temperature. As the grain radius increases from 40 to 100 micrometers, the closure temperature rises steadily, suggesting that larger grains retain radiogenic helium longer during cooling and thus recording higher closure temperatures. This graph emphasizes the significance of accounting for grain size when evaluating thermochronological data."
   ]
  },
  {
   "cell_type": "markdown",
   "id": "68b0ef17",
   "metadata": {
    "deletable": false,
    "editable": false,
    "nbgrader": {
     "cell_type": "markdown",
     "checksum": "50de7796895aa7f9d63f05378b95eebf",
     "grade": false,
     "grade_id": "cell-e6a2fccb6ac36298",
     "locked": true,
     "schema_version": 3,
     "solution": false,
     "task": false
    }
   },
   "source": [
    "### Part 6: Exploring Dodson's equations: Thermochronometer system (1.5 points)\n",
    "\n",
    "The final factor we can explore is the mineral system being used as a thermochronometer. Here we will compare the calculated effective closure temperatures for the apatite (U-Th)/He, zircon (U-Th)/He, and muscovite Ar/Ar thermochronomters.\n",
    "\n",
    "| Thermochronometer | $E_{\\mathrm{a}}$      | $D_{0}$              | $a$     | $A$  |\n",
    "|-------------------|:---------------------:|:--------------------:|:-------:|:----:|\n",
    "| Apatite (U-Th)/He | $138.0 \\times 10^{3}$ | $5.0 \\times 10^{-3}$ | $100.0$ | $25$ |\n",
    "| Zircon (U-Th)/He  | $168.0 \\times 10^{3}$ | $4.6 \\times 10^{-5}$ | $100.0$ | $25$ |\n",
    "| Muscovite Ar/Ar   | $264.0 \\times 10^{3}$ | $2.3 \\times 10^{-4}$ | $500.0$ | $27$ |\n",
    "\n",
    "- Calculate the predicted thermochronometer closure temperatures for each of the systems above for a cooling rate of 10.0 °C / Myr\n",
    "    - You can store the calculated closure temperatures as `closure_temp_ahe`, `closure_temp_zhe`, and `closure_temp_mar`"
   ]
  },
  {
   "cell_type": "code",
   "execution_count": 21,
   "id": "8c4c7050",
   "metadata": {
    "deletable": false,
    "nbgrader": {
     "cell_type": "code",
     "checksum": "6dd416863fd7de1cd606c3c253c3f629",
     "grade": false,
     "grade_id": "problem_2_ag_p6_radii",
     "locked": false,
     "schema_version": 3,
     "solution": true,
     "task": false
    },
    "tags": []
   },
   "outputs": [
    {
     "name": "stdout",
     "output_type": "stream",
     "text": [
      "Apatite (U-Th)/He closure temperature: 79.02 °C\n",
      "Zircon (U-Th)/He closure temperature: 198.62 °C\n",
      "Muscovite Ar/Ar closure temperature: 486.50 °C\n"
     ]
    }
   ],
   "source": [
    "# Calculate your effective closure temperatures below\n",
    "closure_temp_ahe = None\n",
    "closure_temp_zhe = None\n",
    "closure_temp_mar = None\n",
    "\n",
    "# YOUR CODE HERE\n",
    "# parameters for the thermochronometers\n",
    "thermochronometers = {\n",
    "    'Apatite (U-Th)/He': {'activation_energy': 138.0e3, 'diffusivity_inf': 5.0e-3, 'grain_radius': 100.0, 'geometry_factor': 25},\n",
    "    'Zircon (U-Th)/He': {'activation_energy': 168.0e3, 'diffusivity_inf': 4.6e-5, 'grain_radius': 100.0, 'geometry_factor': 25},\n",
    "    'Muscovite Ar/Ar': {'activation_energy': 264.0e3, 'diffusivity_inf': 2.3e-4, 'grain_radius': 500.0, 'geometry_factor': 27}\n",
    "}\n",
    "# Cooling rate\n",
    "cooling_rate = -10.0  # °C / Myr\n",
    "# Calculate the closure temperatures\n",
    "closure_temp_ahe = dodson(cooling_rate, **thermochronometers['Apatite (U-Th)/He'])\n",
    "closure_temp_zhe = dodson(cooling_rate, **thermochronometers['Zircon (U-Th)/He'])\n",
    "closure_temp_mar = dodson(cooling_rate, **thermochronometers['Muscovite Ar/Ar'])\n",
    "# Print the calculated closure temperatures as results\n",
    "print(f\"Apatite (U-Th)/He closure temperature: {closure_temp_ahe:.2f} °C\")\n",
    "print(f\"Zircon (U-Th)/He closure temperature: {closure_temp_zhe:.2f} °C\")\n",
    "print(f\"Muscovite Ar/Ar closure temperature: {closure_temp_mar:.2f} °C\")\n",
    "#raise NotImplementedError()"
   ]
  },
  {
   "cell_type": "code",
   "execution_count": 22,
   "id": "cbc65225",
   "metadata": {
    "deletable": false,
    "editable": false,
    "nbgrader": {
     "cell_type": "code",
     "checksum": "5306a94bef8cded3a3764432306a19cf",
     "grade": true,
     "grade_id": "problem_2_ag_p6_radii_test1",
     "locked": true,
     "points": 0.5,
     "schema_version": 3,
     "solution": false,
     "task": false
    },
    "tags": []
   },
   "outputs": [
    {
     "name": "stdout",
     "output_type": "stream",
     "text": [
      "The calculated apatite (U-Th)/He effective closure temperature is 79.02 °C.\n"
     ]
    }
   ],
   "source": [
    "# The test below should work\n",
    "print(f\"The calculated apatite (U-Th)/He effective closure temperature is {closure_temp_ahe:.2f} °C.\")\n",
    "\n",
    "# Print test results\n",
    "from nose.tools import assert_equal\n",
    "\n",
    "assert_equal(round(closure_temp_ahe, 2), 79.02)"
   ]
  },
  {
   "cell_type": "code",
   "execution_count": 23,
   "id": "379812d6",
   "metadata": {
    "deletable": false,
    "editable": false,
    "nbgrader": {
     "cell_type": "code",
     "checksum": "e93f6f1e9e41be5879c9643c5efe2a00",
     "grade": true,
     "grade_id": "problem_2_ag_p6_radii_test2",
     "locked": true,
     "points": 0.5,
     "schema_version": 3,
     "solution": false,
     "task": false
    },
    "tags": []
   },
   "outputs": [
    {
     "name": "stdout",
     "output_type": "stream",
     "text": [
      "The calculated zircon (U-Th)/He effective closure temperature is 198.62 °C.\n"
     ]
    }
   ],
   "source": [
    "# The test below should work\n",
    "print(f\"The calculated zircon (U-Th)/He effective closure temperature is {closure_temp_zhe:.2f} °C.\")\n",
    "\n",
    "# Print test results\n",
    "from nose.tools import assert_equal\n",
    "\n",
    "assert_equal(round(closure_temp_zhe, 2), 198.62)"
   ]
  },
  {
   "cell_type": "code",
   "execution_count": 24,
   "id": "63ffeb13",
   "metadata": {
    "deletable": false,
    "editable": false,
    "nbgrader": {
     "cell_type": "code",
     "checksum": "fc08070e6ad7464bb6c01a2fae82a492",
     "grade": true,
     "grade_id": "problem_2_ag_p6_radii_test3",
     "locked": true,
     "points": 0.5,
     "schema_version": 3,
     "solution": false,
     "task": false
    },
    "tags": []
   },
   "outputs": [
    {
     "name": "stdout",
     "output_type": "stream",
     "text": [
      "The calculated muscovite Ar/Ar effective closure temperature is 486.50 °C.\n"
     ]
    }
   ],
   "source": [
    "# The test below should work\n",
    "print(f\"The calculated muscovite Ar/Ar effective closure temperature is {closure_temp_mar:.2f} °C.\")\n",
    "\n",
    "# Print test results\n",
    "from nose.tools import assert_equal\n",
    "\n",
    "assert_equal(round(closure_temp_mar, 2), 486.50)"
   ]
  },
  {
   "cell_type": "markdown",
   "id": "6bf876bd",
   "metadata": {
    "deletable": false,
    "editable": false,
    "nbgrader": {
     "cell_type": "markdown",
     "checksum": "549b7aeee66a3a1d8c8e9a94a6085a80",
     "grade": false,
     "grade_id": "cell-d4d86f47501aa3af",
     "locked": true,
     "schema_version": 3,
     "solution": false,
     "task": false
    }
   },
   "source": [
    "### Part 7: Plotting Dodson's equations: Different thermochronometers (1.5 points)\n",
    "\n",
    "The final plot we can create is that showing the different effective closure temperatures for the different thermochronometers. In this case we will plot things a bit differently than before, so please read carefully.\n",
    "\n",
    "- Using Matplotlib, create a horizontal bar plot (using `ax.barh()`)\n",
    "    - For this kind of plot you should pass two lists:\n",
    "        1. The list of the names of the different thermochronometers as text\n",
    "        2. The corresponding list of effective closure temperatures\n",
    "    - You can again create the figure and plots using `fig, ax = plt.subplots(1, 1, figsize=(8, 6))`, which will create a figure with a single set of plot axes and a size of 8 inches wide by 6 inches tall\n",
    "    - You should ensure the x-axis is labeled appropriately and you can remove the y-axis label for this plot\n",
    "- Don't forget to add a title\n",
    "- Also add a figure caption in the Markdown cell below the plot that describes it as if it was in a scientific journal article"
   ]
  },
  {
   "cell_type": "code",
   "execution_count": 25,
   "id": "705c1ff0",
   "metadata": {
    "deletable": false,
    "nbgrader": {
     "cell_type": "code",
     "checksum": "c12ade600fec8c17e74e0ac7aabc3bcd",
     "grade": true,
     "grade_id": "problem_2_mg_p7_plot",
     "locked": false,
     "points": 1,
     "schema_version": 3,
     "solution": true,
     "task": false
    },
    "tags": []
   },
   "outputs": [
    {
     "data": {
      "image/png": "[encoded data removed]",
      "text/plain": [
       "<Figure size 800x600 with 1 Axes>"
      ]
     },
     "metadata": {},
     "output_type": "display_data"
    }
   ],
   "source": [
    "import matplotlib.pyplot as plt\n",
    "\n",
    "# Create your plot below\n",
    "\n",
    "# YOUR CODE HERE\n",
    "# Thermochronometer parameters\n",
    "thermochronometers = {\n",
    "    'Apatite (U-Th)/He': {'activation_energy': 138.0e3, 'diffusivity_inf': 5.0e-3, 'grain_radius': 100.0, 'geometry_factor': 25},\n",
    "    'Zircon (U-Th)/He': {'activation_energy': 168.0e3, 'diffusivity_inf': 4.6e-5, 'grain_radius': 100.0, 'geometry_factor': 25},\n",
    "    'Muscovite Ar/Ar': {'activation_energy': 264.0e3, 'diffusivity_inf': 2.3e-4, 'grain_radius': 500.0, 'geometry_factor': 27}\n",
    "}\n",
    "# Cooling rate\n",
    "cooling_rate = -10.0  # °C / Myr\n",
    "# Calculate closure temperatures for each thermochronometer\n",
    "closure_temps = {\n",
    "    name: dodson(cooling_rate, **params)\n",
    "    for name, params in thermochronometers.items()\n",
    "}\n",
    "# Names of thermochronometers\n",
    "names = list(closure_temps.keys())\n",
    "# Corresponding closure temperatures\n",
    "temps = [closure_temps[name] for name in names]\n",
    "# Create the plot\n",
    "fig, ax = plt.subplots(1, 1, figsize=(8, 6))\n",
    "# Create the horizontal bar plot\n",
    "ax.barh(names, temps, color='midnightblue')\n",
    "# Set the title and labels\n",
    "ax.set_title('Effective Closure Temperatures for Different Thermochronometers')\n",
    "ax.set_xlabel('Closure Temperature (°C)')\n",
    "# Show the plot\n",
    "plt.show()\n",
    "#raise NotImplementedError()"
   ]
  },
  {
   "cell_type": "markdown",
   "id": "c1aafb2b",
   "metadata": {
    "deletable": false,
    "nbgrader": {
     "cell_type": "markdown",
     "checksum": "5b21d1188e23451a5e2e2edc2c3f3953",
     "grade": true,
     "grade_id": "problem_2_mg_p7_caption",
     "locked": false,
     "points": 0.5,
     "schema_version": 3,
     "solution": true,
     "task": false
    }
   },
   "source": [
    "**Figure Caption:** Comparison of effective closure temperatures calculated using Dodson's method for three different thermochronometers at a cooling rate of 10 °C/Myr. Muscovite Ar/Ar shows the highest closure temperature, reflecting its higher activation energy and larger grain size, followed by Zircon (U-Th)/He, with Apatite (U-Th)/He exhibiting the lowest closure temperature. The variations in closure temperatures indicate the sensitivity of each mineral system to thermal histories during the cooling process."
   ]
  },
  {
   "cell_type": "markdown",
   "id": "dd1b68d2",
   "metadata": {
    "deletable": false,
    "editable": false,
    "nbgrader": {
     "cell_type": "markdown",
     "checksum": "6b6deb782ad3baa60d50ee17a8c69474",
     "grade": false,
     "grade_id": "cell-aea5dc6518ddb4c7",
     "locked": true,
     "schema_version": 3,
     "solution": false,
     "task": false
    }
   },
   "source": [
    "## Optional reflection questions (0 points)\n",
    "\n",
    "We invite you to consider the following questions. Please answer them briefly in the Markdown cell below.\n",
    "\n",
    "1. After looking at the results in Problem 1, what can you say about how higher diffusivity at higher temperature would affect trapping of a daughter isotope in a crystal?\n",
    "2. How does the effect of a longer diffusion timescale compare to that of a higher diffusivity?\n",
    "3. Does the effect of the cooling rate seem important in the calculation of effective closure temperatures? If you were given a rock sample with only an age, would it be easy to determine the closure temperature?\n",
    "4. Is the effect of grain size important for thermochronology? Why or why not?"
   ]
  },
  {
   "cell_type": "markdown",
   "id": "4166d69e",
   "metadata": {
    "deletable": false,
    "nbgrader": {
     "cell_type": "markdown",
     "checksum": "379391f75cd7de2c99dc1cd56dd10675",
     "grade": true,
     "grade_id": "cell-a6146008c9d94caa",
     "locked": false,
     "points": 0,
     "schema_version": 3,
     "solution": true,
     "task": false
    }
   },
   "source": [
    "YOUR ANSWER HERE"
   ]
  }
 ],
 "metadata": {
  "kernelspec": {
   "display_name": "Python 3 (ipykernel)",
   "language": "python",
   "name": "python3"
  },
  "language_info": {
   "codemirror_mode": {
    "name": "ipython",
    "version": 3
   },
   "file_extension": ".py",
   "mimetype": "text/x-python",
   "name": "python",
   "nbconvert_exporter": "python",
   "pygments_lexer": "ipython3",
   "version": "3.10.12"
  }
 },
 "nbformat": 4,
 "nbformat_minor": 5
}
